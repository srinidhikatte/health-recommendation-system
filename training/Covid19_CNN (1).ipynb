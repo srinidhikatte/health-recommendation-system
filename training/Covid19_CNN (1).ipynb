{
  "nbformat": 4,
  "nbformat_minor": 0,
  "metadata": {
    "colab": {
      "provenance": []
    },
    "kernelspec": {
      "name": "python3",
      "display_name": "Python 3"
    },
    "language_info": {
      "name": "python"
    },
    "accelerator": "GPU",
    "gpuClass": "standard"
  },
  "cells": [
    {
      "cell_type": "markdown",
      "source": [
        "# **Covid-19 Classification using CNN**"
      ],
      "metadata": {
        "id": "rijmOigJIYWP"
      }
    },
    {
      "cell_type": "code",
      "execution_count": null,
      "metadata": {
        "id": "1R1piIAbIRz1"
      },
      "outputs": [],
      "source": [
        "import numpy as np \n",
        "import pandas as pd\n",
        "import tensorflow as tf\n",
        "from tensorflow.keras import layers\n",
        "from tensorflow.keras.layers.experimental import preprocessing\n",
        "from tensorflow.keras.preprocessing.image import ImageDataGenerator\n",
        "from tensorflow.keras.models import Model\n",
        "import os\n",
        "import cv2\n",
        "import matplotlib.pyplot as plt\n",
        "import PIL.Image as img\n",
        "from tensorflow.keras.preprocessing import image\n",
        "from tensorflow.keras.callbacks import EarlyStopping"
      ]
    },
    {
      "cell_type": "code",
      "source": [
        "# Set path for train and test directory\n",
        "train_path = '/content/drive/MyDrive/Sem_2/ADBMS/Assignment/Assignment_2/Databases/Covid19-dataset/train'\n",
        "test_path = '/content/drive/MyDrive/Sem_2/ADBMS/Assignment/Assignment_2/Databases/Covid19-dataset/test'"
      ],
      "metadata": {
        "id": "tAhd9Nb4IyTW"
      },
      "execution_count": null,
      "outputs": []
    },
    {
      "cell_type": "code",
      "source": [
        "from matplotlib.image import imread\n",
        "dim1 = []\n",
        "dim2 = []\n",
        "for image_filename in os.listdir(test_path+'/Covid'):\n",
        "    \n",
        "    img = imread(test_path+'/Covid'+'/'+image_filename)\n",
        "    d1,d2 = img.shape[0],img.shape[1]\n",
        "    dim1.append(d1)\n",
        "    dim2.append(d2)\n",
        "np.mean(dim1),np.mean(dim2)"
      ],
      "metadata": {
        "colab": {
          "base_uri": "https://localhost:8080/"
        },
        "id": "K3hSI4cDh17b",
        "outputId": "07e993bd-aa05-4591-eb46-1b385d054e75"
      },
      "execution_count": null,
      "outputs": [
        {
          "output_type": "execute_result",
          "data": {
            "text/plain": [
              "(754.5769230769231, 814.3846153846154)"
            ]
          },
          "metadata": {},
          "execution_count": 3
        }
      ]
    },
    {
      "cell_type": "code",
      "source": [
        "from matplotlib.image import imread\n",
        "dim1 = []\n",
        "dim2 = []\n",
        "for image_filename in os.listdir(test_path+'/Normal'):\n",
        "    \n",
        "    img = imread(test_path+'/Normal'+'/'+image_filename)\n",
        "    d1,d2 = img.shape[0],img.shape[1]\n",
        "    dim1.append(d1)\n",
        "    dim2.append(d2)\n",
        "np.mean(dim1),np.mean(dim2)"
      ],
      "metadata": {
        "colab": {
          "base_uri": "https://localhost:8080/"
        },
        "id": "zLMWp64xjyZM",
        "outputId": "02580e05-c5db-4963-bfce-5899254b50ce"
      },
      "execution_count": null,
      "outputs": [
        {
          "output_type": "execute_result",
          "data": {
            "text/plain": [
              "(1531.15, 1891.7)"
            ]
          },
          "metadata": {},
          "execution_count": 4
        }
      ]
    },
    {
      "cell_type": "code",
      "source": [
        "from matplotlib.image import imread\n",
        "dim1 = []\n",
        "dim2 = []\n",
        "for image_filename in os.listdir(test_path+'/Viral Pneumonia'):\n",
        "    \n",
        "    img = imread(test_path+'/Viral Pneumonia'+'/'+image_filename)\n",
        "    d1,d2 = img.shape[0],img.shape[1]\n",
        "    dim1.append(d1)\n",
        "    dim2.append(d2)\n",
        "np.mean(dim1),np.mean(dim2)"
      ],
      "metadata": {
        "colab": {
          "base_uri": "https://localhost:8080/"
        },
        "id": "hn0DwYP7j6IQ",
        "outputId": "8123d3a3-aeb2-429d-9277-5cf28186befd"
      },
      "execution_count": null,
      "outputs": [
        {
          "output_type": "execute_result",
          "data": {
            "text/plain": [
              "(860.0, 1238.7)"
            ]
          },
          "metadata": {},
          "execution_count": 5
        }
      ]
    },
    {
      "cell_type": "code",
      "source": [
        "(754.5769230769231+1531.15+860.0)/3 , (814.3846153846154+1891.7+1238.7)/3"
      ],
      "metadata": {
        "colab": {
          "base_uri": "https://localhost:8080/"
        },
        "id": "fTlmXk7Dkcz5",
        "outputId": "24a8caee-2697-4128-fdf1-2449cb169157"
      },
      "execution_count": null,
      "outputs": [
        {
          "output_type": "execute_result",
          "data": {
            "text/plain": [
              "(1048.575641025641, 1314.9282051282053)"
            ]
          },
          "metadata": {},
          "execution_count": 86
        }
      ]
    },
    {
      "cell_type": "code",
      "source": [
        "image_shape = (514,514,3)"
      ],
      "metadata": {
        "id": "isUKKaeAk7ZJ"
      },
      "execution_count": null,
      "outputs": []
    },
    {
      "cell_type": "code",
      "source": [
        "image_gen = ImageDataGenerator(rotation_range=20, # rotate the image 20 degrees\n",
        "                               width_shift_range=0.10, # Shift the pic width by a max of 5%\n",
        "                               height_shift_range=0.10, # Shift the pic height by a max of 5%\n",
        "                               rescale=1/255, # Rescale the image by normalzing it.\n",
        "                               #shear_range=0.1, # Shear means cutting away part of the image (max 10%)\n",
        "                               #zoom_range=0.1, # Zoom in by 10% max\n",
        "                               horizontal_flip=True, # Allo horizontal flipping\n",
        "                               #fill_mode='nearest' # Fill in missing pixels with the nearest filled value\n",
        "                              )"
      ],
      "metadata": {
        "id": "SiX5E5VrlOst"
      },
      "execution_count": null,
      "outputs": []
    },
    {
      "cell_type": "code",
      "source": [
        "image_gen.flow_from_directory(train_path)"
      ],
      "metadata": {
        "colab": {
          "base_uri": "https://localhost:8080/"
        },
        "id": "0hLIB2oelYym",
        "outputId": "1809e8e2-fab4-4f9d-c2b7-f8163da008d5"
      },
      "execution_count": null,
      "outputs": [
        {
          "output_type": "stream",
          "name": "stdout",
          "text": [
            "Found 251 images belonging to 3 classes.\n"
          ]
        },
        {
          "output_type": "execute_result",
          "data": {
            "text/plain": [
              "<keras.preprocessing.image.DirectoryIterator at 0x7f34a86594f0>"
            ]
          },
          "metadata": {},
          "execution_count": 6
        }
      ]
    },
    {
      "cell_type": "code",
      "source": [
        "image_gen.flow_from_directory(test_path)"
      ],
      "metadata": {
        "colab": {
          "base_uri": "https://localhost:8080/"
        },
        "id": "jC7Xuq0DldwE",
        "outputId": "cd2dbff1-5ada-4cfe-c843-447c0d8f2d9a"
      },
      "execution_count": null,
      "outputs": [
        {
          "output_type": "stream",
          "name": "stdout",
          "text": [
            "Found 66 images belonging to 3 classes.\n"
          ]
        },
        {
          "output_type": "execute_result",
          "data": {
            "text/plain": [
              "<keras.preprocessing.image.DirectoryIterator at 0x7f34a86e9e50>"
            ]
          },
          "metadata": {},
          "execution_count": 7
        }
      ]
    },
    {
      "cell_type": "code",
      "source": [
        "from tensorflow.keras.models import Sequential\n",
        "from tensorflow.keras.layers import Activation, Dropout, Flatten, Dense, Conv2D, MaxPooling2D\n",
        "import warnings\n",
        "warnings.filterwarnings(\"ignore\")"
      ],
      "metadata": {
        "id": "zi0vUkkKmD8z"
      },
      "execution_count": null,
      "outputs": []
    },
    {
      "cell_type": "code",
      "source": [
        "# Initialising the CNN\n",
        "classifier = Sequential()\n",
        "\n",
        "#1 - Convolution\n",
        "classifier.add(Conv2D(filters=32, kernel_size=(3,3),input_shape=image_shape, activation='relu',))\n",
        "classifier.add(MaxPooling2D(pool_size=(2, 2)))\n",
        "\n",
        "#2 - Pooling\n",
        "# Hidden Layer 1\n",
        "classifier.add(Conv2D(filters=64, kernel_size=(3,3),input_shape=image_shape, activation='relu',))\n",
        "classifier.add(MaxPooling2D(pool_size=(2, 2)))\n",
        "\n",
        "# Adding a second convolution layer\n",
        "# relu turns negative values in images to 0\n",
        "classifier.add(Conv2D(filters=64, kernel_size=(3,3),input_shape=image_shape, activation='relu',))\n",
        "classifier.add(MaxPooling2D(pool_size=(2, 2)))\n",
        "\n",
        "classifier.add(Conv2D(filters=64, kernel_size=(3,3),input_shape=image_shape, activation='relu',))\n",
        "classifier.add(MaxPooling2D(pool_size=(2, 2)))\n",
        "\n",
        "classifier.add(Conv2D(filters=64, kernel_size=(3,3),input_shape=image_shape, activation='relu',))\n",
        "classifier.add(MaxPooling2D(pool_size=(2, 2)))\n",
        "\n",
        "#3 - Flattening\n",
        "# converts the matrix in a singe array\n",
        "classifier.add(Flatten())\n",
        "\n",
        "\n",
        "classifier.add(Dense(128))\n",
        "classifier.add(Activation('relu'))\n",
        "\n",
        "\n",
        "# Dropouts help reduce overfitting by randomly turning neurons off during training.\n",
        "# Here we say randomly turn off 50% of neurons.\n",
        "classifier.add(Dropout(0.5))\n",
        "\n",
        "#4 - Full Connection\n",
        "# 128 is the final layer of outputs & from that 1 will be considered.\n",
        "# Last layer, remember its binary so we use sigmoid\n",
        "classifier.add(Dense(3))\n",
        "classifier.add(Activation('softmax'))\n",
        "\n",
        "classifier.compile(loss='sparse_categorical_crossentropy',\n",
        "              optimizer='adam',\n",
        "              metrics=['accuracy'])"
      ],
      "metadata": {
        "id": "GClV_KN4mF1o"
      },
      "execution_count": null,
      "outputs": []
    },
    {
      "cell_type": "code",
      "source": [
        "classifier.summary()"
      ],
      "metadata": {
        "colab": {
          "base_uri": "https://localhost:8080/"
        },
        "id": "WwAFCB27rcep",
        "outputId": "17bedc80-23df-41da-92a0-ff84628a764b"
      },
      "execution_count": null,
      "outputs": [
        {
          "output_type": "stream",
          "name": "stdout",
          "text": [
            "Model: \"sequential_1\"\n",
            "_________________________________________________________________\n",
            " Layer (type)                Output Shape              Param #   \n",
            "=================================================================\n",
            " conv2d_4 (Conv2D)           (None, 512, 512, 32)      896       \n",
            "                                                                 \n",
            " max_pooling2d_4 (MaxPooling  (None, 256, 256, 32)     0         \n",
            " 2D)                                                             \n",
            "                                                                 \n",
            " conv2d_5 (Conv2D)           (None, 254, 254, 64)      18496     \n",
            "                                                                 \n",
            " max_pooling2d_5 (MaxPooling  (None, 127, 127, 64)     0         \n",
            " 2D)                                                             \n",
            "                                                                 \n",
            " conv2d_6 (Conv2D)           (None, 125, 125, 64)      36928     \n",
            "                                                                 \n",
            " max_pooling2d_6 (MaxPooling  (None, 62, 62, 64)       0         \n",
            " 2D)                                                             \n",
            "                                                                 \n",
            " conv2d_7 (Conv2D)           (None, 60, 60, 64)        36928     \n",
            "                                                                 \n",
            " max_pooling2d_7 (MaxPooling  (None, 30, 30, 64)       0         \n",
            " 2D)                                                             \n",
            "                                                                 \n",
            " conv2d_8 (Conv2D)           (None, 28, 28, 64)        36928     \n",
            "                                                                 \n",
            " max_pooling2d_8 (MaxPooling  (None, 14, 14, 64)       0         \n",
            " 2D)                                                             \n",
            "                                                                 \n",
            " flatten_1 (Flatten)         (None, 12544)             0         \n",
            "                                                                 \n",
            " dense_2 (Dense)             (None, 128)               1605760   \n",
            "                                                                 \n",
            " activation_2 (Activation)   (None, 128)               0         \n",
            "                                                                 \n",
            " dropout_1 (Dropout)         (None, 128)               0         \n",
            "                                                                 \n",
            " dense_3 (Dense)             (None, 3)                 387       \n",
            "                                                                 \n",
            " activation_3 (Activation)   (None, 3)                 0         \n",
            "                                                                 \n",
            "=================================================================\n",
            "Total params: 1,736,323\n",
            "Trainable params: 1,736,323\n",
            "Non-trainable params: 0\n",
            "_________________________________________________________________\n"
          ]
        }
      ]
    },
    {
      "cell_type": "code",
      "source": [
        "from tensorflow.keras.callbacks import EarlyStopping\n",
        "early_stop = EarlyStopping(monitor='val_loss',patience=2)"
      ],
      "metadata": {
        "id": "aVVS-ZuurkKG"
      },
      "execution_count": null,
      "outputs": []
    },
    {
      "cell_type": "code",
      "source": [
        "# Set batch size to 16\n",
        "batch_size = 16"
      ],
      "metadata": {
        "id": "270OVLmxsQn3"
      },
      "execution_count": null,
      "outputs": []
    },
    {
      "cell_type": "code",
      "source": [
        "train_image_gen = image_gen.flow_from_directory(train_path,\n",
        "                                               target_size=image_shape[:2],\n",
        "                                               batch_size=batch_size,\n",
        "                                               color_mode = 'rgb',\n",
        "                                               class_mode='sparse')"
      ],
      "metadata": {
        "colab": {
          "base_uri": "https://localhost:8080/"
        },
        "id": "8rSWWQpcsSut",
        "outputId": "20b37416-8aeb-47f6-fae7-e25956172725"
      },
      "execution_count": null,
      "outputs": [
        {
          "output_type": "stream",
          "name": "stdout",
          "text": [
            "Found 251 images belonging to 3 classes.\n"
          ]
        }
      ]
    },
    {
      "cell_type": "code",
      "source": [
        "test_image_gen = image_gen.flow_from_directory(test_path,\n",
        "                                               target_size=image_shape[:2],                                               \n",
        "                                               batch_size=batch_size,\n",
        "                                               color_mode = 'rgb',\n",
        "                                               class_mode='sparse',shuffle=False)"
      ],
      "metadata": {
        "colab": {
          "base_uri": "https://localhost:8080/"
        },
        "id": "f-eb6pMGsado",
        "outputId": "f469f604-b617-49e3-d0de-f593a25ab5b6"
      },
      "execution_count": null,
      "outputs": [
        {
          "output_type": "stream",
          "name": "stdout",
          "text": [
            "Found 66 images belonging to 3 classes.\n"
          ]
        }
      ]
    },
    {
      "cell_type": "code",
      "source": [
        "results = classifier.fit_generator(train_image_gen,epochs=20,\n",
        "                              validation_data=test_image_gen,\n",
        "                             callbacks=[early_stop])"
      ],
      "metadata": {
        "colab": {
          "base_uri": "https://localhost:8080/"
        },
        "id": "q7XuRULBshAc",
        "outputId": "06f7a34a-092a-4bba-fb13-25cd49bddddb"
      },
      "execution_count": null,
      "outputs": [
        {
          "output_type": "stream",
          "name": "stdout",
          "text": [
            "Epoch 1/20\n",
            "16/16 [==============================] - 230s 13s/step - loss: 1.1178 - accuracy: 0.3984 - val_loss: 1.0558 - val_accuracy: 0.4394\n",
            "Epoch 2/20\n",
            "16/16 [==============================] - 37s 2s/step - loss: 0.8159 - accuracy: 0.6375 - val_loss: 0.9577 - val_accuracy: 0.6364\n",
            "Epoch 3/20\n",
            "16/16 [==============================] - 31s 2s/step - loss: 0.7587 - accuracy: 0.6693 - val_loss: 0.7011 - val_accuracy: 0.7424\n",
            "Epoch 4/20\n",
            "16/16 [==============================] - 34s 2s/step - loss: 0.6097 - accuracy: 0.7809 - val_loss: 0.8498 - val_accuracy: 0.7424\n",
            "Epoch 5/20\n",
            "16/16 [==============================] - 31s 2s/step - loss: 0.5699 - accuracy: 0.7570 - val_loss: 0.6477 - val_accuracy: 0.7273\n",
            "Epoch 6/20\n",
            "16/16 [==============================] - 32s 2s/step - loss: 0.5211 - accuracy: 0.8287 - val_loss: 0.6033 - val_accuracy: 0.7424\n",
            "Epoch 7/20\n",
            "16/16 [==============================] - 34s 2s/step - loss: 0.5040 - accuracy: 0.8367 - val_loss: 0.5377 - val_accuracy: 0.8030\n",
            "Epoch 8/20\n",
            "16/16 [==============================] - 32s 2s/step - loss: 0.3938 - accuracy: 0.8446 - val_loss: 0.4723 - val_accuracy: 0.8182\n",
            "Epoch 9/20\n",
            "16/16 [==============================] - 33s 2s/step - loss: 0.4221 - accuracy: 0.8088 - val_loss: 0.6017 - val_accuracy: 0.7727\n",
            "Epoch 10/20\n",
            "16/16 [==============================] - 34s 2s/step - loss: 0.4270 - accuracy: 0.8526 - val_loss: 0.4649 - val_accuracy: 0.8182\n",
            "Epoch 11/20\n",
            "16/16 [==============================] - 31s 2s/step - loss: 0.3673 - accuracy: 0.8645 - val_loss: 0.3479 - val_accuracy: 0.9091\n",
            "Epoch 12/20\n",
            "16/16 [==============================] - 33s 2s/step - loss: 0.3266 - accuracy: 0.8964 - val_loss: 0.3560 - val_accuracy: 0.8939\n",
            "Epoch 13/20\n",
            "16/16 [==============================] - 35s 2s/step - loss: 0.2386 - accuracy: 0.9044 - val_loss: 0.4656 - val_accuracy: 0.8636\n"
          ]
        }
      ]
    },
    {
      "cell_type": "code",
      "source": [
        "classifier.get_weights()"
      ],
      "metadata": {
        "id": "KWIfwRFICtJG"
      },
      "execution_count": null,
      "outputs": []
    },
    {
      "cell_type": "code",
      "source": [
        "# Loss\n",
        "losses = pd.DataFrame(classifier.history.history)\n",
        "losses[['loss','val_loss']].plot()"
      ],
      "metadata": {
        "colab": {
          "base_uri": "https://localhost:8080/",
          "height": 282
        },
        "id": "FvrkIZ2Q7Qeq",
        "outputId": "803bca9f-d76b-4c6f-a7c4-af3b35b29cb3"
      },
      "execution_count": null,
      "outputs": [
        {
          "output_type": "execute_result",
          "data": {
            "text/plain": [
              "<Axes: >"
            ]
          },
          "metadata": {},
          "execution_count": 21
        },
        {
          "output_type": "display_data",
          "data": {
            "text/plain": [
              "<Figure size 432x288 with 1 Axes>"
            ],
            "image/png": "[encoded data removed]"
          },
          "metadata": {
            "needs_background": "light"
          }
        }
      ]
    },
    {
      "cell_type": "code",
      "source": [
        "classifier.metrics_names"
      ],
      "metadata": {
        "colab": {
          "base_uri": "https://localhost:8080/"
        },
        "id": "c0wXA6Qm7d5D",
        "outputId": "c363f79e-754e-4ae7-d256-b9cd4cd098bd"
      },
      "execution_count": null,
      "outputs": [
        {
          "output_type": "execute_result",
          "data": {
            "text/plain": [
              "['loss', 'accuracy']"
            ]
          },
          "metadata": {},
          "execution_count": 22
        }
      ]
    },
    {
      "cell_type": "code",
      "source": [
        "classifier.evaluate_generator(test_image_gen)"
      ],
      "metadata": {
        "colab": {
          "base_uri": "https://localhost:8080/"
        },
        "id": "7irYqMJX7eei",
        "outputId": "db8e1606-c30b-46a5-ebc8-c4149e845ef3"
      },
      "execution_count": null,
      "outputs": [
        {
          "output_type": "execute_result",
          "data": {
            "text/plain": [
              "[0.6274623870849609, 0.7878788113594055]"
            ]
          },
          "metadata": {},
          "execution_count": 23
        }
      ]
    },
    {
      "cell_type": "code",
      "source": [
        "# Predict\n",
        "pred_probabilities = classifier.predict_generator(test_image_gen)\n",
        "pred = np.argmax(pred_probabilities>0.5,axis=1)\n",
        "pred"
      ],
      "metadata": {
        "colab": {
          "base_uri": "https://localhost:8080/"
        },
        "id": "ADbkSJMT7e51",
        "outputId": "886da4b0-5dfd-4840-f141-8f58fbad1975"
      },
      "execution_count": null,
      "outputs": [
        {
          "output_type": "execute_result",
          "data": {
            "text/plain": [
              "array([0, 0, 1, 0, 0, 0, 0, 1, 1, 1, 1, 0, 1, 1, 1, 0, 0, 0, 0, 0, 0, 0,\n",
              "       0, 0, 0, 0, 1, 1, 1, 1, 1, 1, 1, 2, 1, 1, 1, 1, 1, 1, 1, 1, 1, 1,\n",
              "       1, 1, 2, 2, 1, 2, 2, 2, 2, 2, 2, 2, 1, 2, 1, 2, 2, 1, 2, 2, 2, 2])"
            ]
          },
          "metadata": {},
          "execution_count": 24
        }
      ]
    },
    {
      "cell_type": "code",
      "source": [
        "from sklearn.metrics import classification_report,confusion_matrix\n",
        "print(classification_report(test_image_gen.classes,pred))"
      ],
      "metadata": {
        "colab": {
          "base_uri": "https://localhost:8080/"
        },
        "id": "Tm4cJV0D7y39",
        "outputId": "5fcda73e-2d8f-46a9-e8b2-75c96f36a570"
      },
      "execution_count": null,
      "outputs": [
        {
          "output_type": "stream",
          "name": "stdout",
          "text": [
            "              precision    recall  f1-score   support\n",
            "\n",
            "           0       1.00      0.69      0.82        26\n",
            "           1       0.61      0.95      0.75        20\n",
            "           2       0.94      0.80      0.86        20\n",
            "\n",
            "    accuracy                           0.80        66\n",
            "   macro avg       0.85      0.81      0.81        66\n",
            "weighted avg       0.86      0.80      0.81        66\n",
            "\n"
          ]
        }
      ]
    },
    {
      "cell_type": "code",
      "source": [
        "# Save model\n",
        "from tensorflow.keras.models import load_model\n",
        "classifier.save('/content/drive/MyDrive/Sem_2/ADBMS/Assignment/Assignment_2/covid_19_detector.h5')"
      ],
      "metadata": {
        "id": "rVrCaFEN-QeR"
      },
      "execution_count": null,
      "outputs": []
    },
    {
      "cell_type": "code",
      "source": [
        "from tensorflow.keras.models import load_model\n",
        "loaded_classifier = load_model('/content/drive/MyDrive/Sem_2/ADBMS/Assignment/Assignment_2/covid_19_detector.h5')"
      ],
      "metadata": {
        "id": "9SoBVjaXFw3S"
      },
      "execution_count": null,
      "outputs": []
    },
    {
      "cell_type": "code",
      "source": [
        "test_input_path = '/content/drive/MyDrive/Sem_2/ADBMS/Assignment/Assignment_2/Databases/Covid19-dataset/test_input'"
      ],
      "metadata": {
        "id": "eOnbJXIjGJf6"
      },
      "execution_count": null,
      "outputs": []
    },
    {
      "cell_type": "code",
      "source": [
        "test_input_image_gen = image_gen.flow_from_directory(test_input_path,\n",
        "                                               target_size=image_shape[:2],                                               \n",
        "                                               batch_size=batch_size,\n",
        "                                               color_mode = 'rgb',\n",
        "                                               class_mode='sparse',shuffle=False)"
      ],
      "metadata": {
        "colab": {
          "base_uri": "https://localhost:8080/"
        },
        "id": "NgastdZDHjuX",
        "outputId": "172bb2b3-aba2-44d1-e8f2-95289384181f"
      },
      "execution_count": null,
      "outputs": [
        {
          "output_type": "stream",
          "name": "stdout",
          "text": [
            "Found 6 images belonging to 3 classes.\n"
          ]
        }
      ]
    },
    {
      "cell_type": "code",
      "source": [
        "test_image_gen.class_indices"
      ],
      "metadata": {
        "colab": {
          "base_uri": "https://localhost:8080/"
        },
        "id": "wG1YVYPfKvGZ",
        "outputId": "84a5a3fa-ee14-4c85-f020-cd0e381913bc"
      },
      "execution_count": null,
      "outputs": [
        {
          "output_type": "execute_result",
          "data": {
            "text/plain": [
              "{'Covid': 0, 'Normal': 1, 'Viral Pneumonia': 2}"
            ]
          },
          "metadata": {},
          "execution_count": 14
        }
      ]
    },
    {
      "cell_type": "code",
      "source": [
        "prob = loaded_classifier.predict_generator(test_input_image_gen)\n",
        "prob_final = np.argmax(prob>0.5,axis=1)\n",
        "prob_final"
      ],
      "metadata": {
        "id": "ORZze5FBH4zz"
      },
      "execution_count": null,
      "outputs": []
    },
    {
      "cell_type": "code",
      "source": [
        "print(classification_report(test_input_image_gen.classes,prob_final))"
      ],
      "metadata": {
        "colab": {
          "base_uri": "https://localhost:8080/"
        },
        "id": "Cc6p4NjvHkl7",
        "outputId": "d1e67594-f48c-4dfc-ae0a-6051cea3e05d"
      },
      "execution_count": null,
      "outputs": [
        {
          "output_type": "stream",
          "name": "stdout",
          "text": [
            "              precision    recall  f1-score   support\n",
            "\n",
            "           0       1.00      0.50      0.67         2\n",
            "           1       0.67      1.00      0.80         2\n",
            "           2       1.00      1.00      1.00         2\n",
            "\n",
            "    accuracy                           0.83         6\n",
            "   macro avg       0.89      0.83      0.82         6\n",
            "weighted avg       0.89      0.83      0.82         6\n",
            "\n"
          ]
        }
      ]
    }
  ]
}